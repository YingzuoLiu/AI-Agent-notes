{
  "cells": [
    {
      "cell_type": "markdown",
      "metadata": {},
      "source": [
        "# MCP 风格多轮对话 Demo\n",
        "这个 Notebook 演示了如何在 MCP 框架思路下实现 **Prompt Merge** 和 **顺序策略**，模拟一个简单的多轮对话系统。"
      ]
    },
    {
      "cell_type": "code",
      "execution_count": null,
      "metadata": {},
      "outputs": [],
      "source": [
        "# 上下文存储与合并函数\n",
        "from typing import List\n",
        "\n",
        "context_memory: List[str] = []\n",
        "\n",
        "def merge_context(user_input: str) -> str:\n",
        "    \"\"\"按顺序拼接系统 prompt + 历史 + 当前输入\"\"\"\n",
        "    system_prompt = \"You are a helpful assistant.\"\n",
        "    history = \"\\n\".join(context_memory[-3:])  # 只保留最近3轮\n",
        "    return f\"{system_prompt}\\n\\nHistory:\\n{history}\\n\\nUser: {user_input}\\nAssistant:\""
      ]
    },
    {
      "cell_type": "code",
      "execution_count": null,
      "metadata": {},
      "outputs": [],
      "source": [
        "# 模拟大模型调用\n",
        "def llm_call(prompt: str) -> str:\n",
        "    \"\"\"模拟调用大模型，这里直接返回一个假回复\"\"\"\n",
        "    return f\"(模拟回复) 我收到了: {prompt[-50:]}\""
      ]
    },
    {
      "cell_type": "code",
      "execution_count": null,
      "metadata": {},
      "outputs": [],
      "source": [
        "# 主流程函数\n",
        "def handle_message(user_input: str):\n",
        "    \"\"\"主流程：上下文注入 + 模型调用 + 存储\"\"\"\n",
        "    prompt = merge_context(user_input)\n",
        "    response = llm_call(prompt)\n",
        "    context_memory.append(f\"User: {user_input}\")\n",
        "    context_memory.append(f\"Assistant: {response}\")\n",
        "    return response"
      ]
    },
    {
      "cell_type": "code",
      "execution_count": null,
      "metadata": {},
      "outputs": [],
      "source": [
        "# 模拟多轮对话\n",
        "print(handle_message(\"你好\"))\n",
        "print(handle_message(\"你还记得我刚才说了什么吗？\"))\n",
        "print(handle_message(\"帮我总结一下我们的对话\"))"
      ]
    }
  ],
  "metadata": {
    "kernelspec": {
      "display_name": "Python 3",
      "language": "python",
      "name": "python3"
    },
    "language_info": {
      "name": "python",
      "version": "3.11"
    }
  },
  "nbformat": 4,
  "nbformat_minor": 5
}
